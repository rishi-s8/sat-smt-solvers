{
 "cells": [
  {
   "cell_type": "code",
   "execution_count": 1,
   "metadata": {},
   "outputs": [],
   "source": [
    "from z3 import *"
   ]
  },
  {
   "cell_type": "code",
   "execution_count": 2,
   "metadata": {},
   "outputs": [],
   "source": [
    "# Solver Function\n",
    "def solve(phi):\n",
    "    print(\"Formula: \", phi)\n",
    "    s = Solver()\n",
    "    s.add(phi)\n",
    "    r = s.check()\n",
    "    if r == sat:\n",
    "        m = s.model()\n",
    "        print(\"Model: \", m)\n",
    "    else:\n",
    "        print(\"unsat\")"
   ]
  },
  {
   "cell_type": "code",
   "execution_count": 3,
   "metadata": {},
   "outputs": [
    {
     "name": "stdout",
     "output_type": "stream",
     "text": [
      "Formula:  Or(And(A, B), Not(Or(Or(B, C), And(A, C))))\n",
      "Model:  [A = False, B = False, C = False]\n"
     ]
    }
   ],
   "source": [
    "#Exercise 1\n",
    "A = Bool(\"A\")\n",
    "B = Bool(\"B\")\n",
    "C = Bool(\"C\")\n",
    "E = And(A,B)\n",
    "F = Or(B,C)\n",
    "G = And(A,C)\n",
    "H = Not(Or(F,G))\n",
    "D = Or(E,H)\n",
    "solve(D)"
   ]
  },
  {
   "cell_type": "code",
   "execution_count": 5,
   "metadata": {},
   "outputs": [
    {
     "name": "stdout",
     "output_type": "stream",
     "text": [
      "Formula:  And(x + y > 5, x > 1, y > 1)\n",
      "Model:  [y = 3/2, x = 4]\n"
     ]
    }
   ],
   "source": [
    "# Checking for Real Values\n",
    "x = Real('x')\n",
    "y = Real('y')\n",
    "phi = And(x+y > 5, x>1, y>1)\n",
    "solve(phi)\n",
    "# Output is Rational"
   ]
  },
  {
   "cell_type": "code",
   "execution_count": 7,
   "metadata": {},
   "outputs": [
    {
     "name": "stdout",
     "output_type": "stream",
     "text": [
      "Formula:  And(x + y > 5, x > 1, y > 1)\n",
      "Model:  [y = 4, x = 2]\n"
     ]
    }
   ],
   "source": [
    "# Checking for Integer Values\n",
    "x = Int('x')\n",
    "y = Int('y')\n",
    "phi = And(x+y > 5, x>1, y>1)\n",
    "solve(phi)\n",
    "# Output is Rational"
   ]
  },
  {
   "cell_type": "code",
   "execution_count": 10,
   "metadata": {},
   "outputs": [
    {
     "name": "stdout",
     "output_type": "stream",
     "text": [
      "Formula:  And(3*x + 2*y - 3 != 0, y > 0)\n",
      "Model:  [y = 1, x = 0]\n"
     ]
    }
   ],
   "source": [
    "# Bounded Model Checking\n",
    "x = Int('x')\n",
    "y = Int('y')\n",
    "z = 3*x + 2*y - 3\n",
    "z = (And(z!=0, y>0))\n",
    "solve(z)"
   ]
  },
  {
   "cell_type": "markdown",
   "metadata": {},
   "source": [
    "- Cannot encode Loops ---> CBMC tool"
   ]
  },
  {
   "cell_type": "markdown",
   "metadata": {},
   "source": [
    "# Uniterpretted Functions"
   ]
  },
  {
   "cell_type": "code",
   "execution_count": 14,
   "metadata": {},
   "outputs": [
    {
     "name": "stdout",
     "output_type": "stream",
     "text": [
      "Formula:  And(h(x) > 5, h(y) < 2)\n",
      "Model:  [y = 2, x = 1, h = [2 -> 0, else -> 6]]\n",
      "Formula:  And(h(x) > 5, h(y) < 2, x == y)\n",
      "unsat\n"
     ]
    }
   ],
   "source": [
    "x =Int('x')\n",
    "y =Int('y')\n",
    "h = Function('h', IntSort(), IntSort())\n",
    "phi = And(h(x) > 5, h(y) < 2)\n",
    "solve(phi)\n",
    "\n",
    "phi = And(h(x) > 5, h(y) < 2, x==y)\n",
    "solve(phi)\n",
    "# Union Find"
   ]
  },
  {
   "cell_type": "code",
   "execution_count": 15,
   "metadata": {},
   "outputs": [
    {
     "name": "stdout",
     "output_type": "stream",
     "text": [
      "Formula:  And(g(x, y) < 0, g(y, x) > 0, y == x)\n",
      "unsat\n"
     ]
    }
   ],
   "source": [
    "x =Int('x')\n",
    "y =Int('y')\n",
    "g = Function('g', IntSort(), IntSort(), IntSort())\n",
    "phi = And(g(x,y) <0 , g(y,x) > 0, y==x)\n",
    "solve(phi)"
   ]
  },
  {
   "cell_type": "markdown",
   "metadata": {},
   "source": [
    "# Uninterpretted Sorts(Types)"
   ]
  },
  {
   "cell_type": "code",
   "execution_count": 19,
   "metadata": {},
   "outputs": [
    {
     "name": "stdout",
     "output_type": "stream",
     "text": [
      "Formula:  And(f(c) == c, P(f(c)))\n",
      "Model:  [c = U!val!0, P = [else -> True], f = [else -> U!val!0]]\n"
     ]
    }
   ],
   "source": [
    "u = DeclareSort('U')\n",
    "c = Const('c', u)\n",
    "f = Function('f', u, u)\n",
    "P = Function('P', u, BoolSort()) # Predicate\n",
    "phi = And(f(c)==c, P(f(c)))#, Not(P(c)))\n",
    "solve(phi)"
   ]
  },
  {
   "cell_type": "markdown",
   "metadata": {},
   "source": [
    "# Quantifiers"
   ]
  },
  {
   "cell_type": "code",
   "execution_count": 24,
   "metadata": {},
   "outputs": [
    {
     "name": "stdout",
     "output_type": "stream",
     "text": [
      "Formula:  ForAll(x, Implies(Human(x), Mortal(x)))\n",
      "Model:  [Human = [else -> False], Mortal = [else -> False]]\n",
      "Formula:  Implies(And(Human(Socrates),\n",
      "            ForAll(x, Implies(Human(x), Mortal(x)))),\n",
      "        Mortal(Socrates))\n",
      "Model:  [Human = [else -> True], Mortal = [else -> False]]\n"
     ]
    }
   ],
   "source": [
    "u = DeclareSort('U')\n",
    "H = Function('Human', u, BoolSort())\n",
    "M = Function('Mortal', u, BoolSort())\n",
    "x = Const('x', u)\n",
    "all_mort = ForAll(x,Implies(H(x), M(x)))\n",
    "solve(all_mort)\n",
    "s = Const('Socrates', u)\n",
    "thm = Implies(And(H(s), all_mort), M(s))\n",
    "solve(thm)"
   ]
  },
  {
   "cell_type": "markdown",
   "metadata": {},
   "source": [
    "# Drinker's Paradox"
   ]
  },
  {
   "cell_type": "code",
   "execution_count": 27,
   "metadata": {},
   "outputs": [
    {
     "name": "stdout",
     "output_type": "stream",
     "text": [
      "Formula:  Not(Exists(x, Implies(Drinks(x), ForAll(y, Drinks(y)))))\n",
      "unsat\n"
     ]
    }
   ],
   "source": [
    "u = DeclareSort('U')\n",
    "Drink = Function('Drinks', u, BoolSort())\n",
    "y = Const('y', u)\n",
    "all_drinks = ForAll(y, Drink(y))\n",
    "\n",
    "x = Const('x', u)\n",
    "phi = Exists(x, Implies(Drink(x), all_drinks))\n",
    "solve(Not(phi))"
   ]
  },
  {
   "cell_type": "code",
   "execution_count": null,
   "metadata": {},
   "outputs": [],
   "source": []
  }
 ],
 "metadata": {
  "kernelspec": {
   "display_name": "Python 3",
   "language": "python",
   "name": "python3"
  },
  "language_info": {
   "codemirror_mode": {
    "name": "ipython",
    "version": 3
   },
   "file_extension": ".py",
   "mimetype": "text/x-python",
   "name": "python",
   "nbconvert_exporter": "python",
   "pygments_lexer": "ipython3",
   "version": "3.6.8"
  }
 },
 "nbformat": 4,
 "nbformat_minor": 2
}
