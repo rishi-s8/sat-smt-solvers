{
 "cells": [
  {
   "cell_type": "code",
   "execution_count": 1,
   "metadata": {},
   "outputs": [],
   "source": [
    "from z3 import *"
   ]
  },
  {
   "cell_type": "code",
   "execution_count": 2,
   "metadata": {},
   "outputs": [],
   "source": [
    "def solve(phi):\n",
    "    print(\"Formula: \", phi)\n",
    "    s = Solver()\n",
    "    s.add(phi)\n",
    "    r = s.check()\n",
    "    if r == sat:\n",
    "        m = s.model()\n",
    "        print(\"Model: \", m)\n",
    "    else:\n",
    "        print(\"unsat\")"
   ]
  },
  {
   "cell_type": "code",
   "execution_count": 13,
   "metadata": {},
   "outputs": [],
   "source": [
    "FOutSort = DeclareSort(\"FSort\")\n",
    "I = Bool('I')\n",
    "F = Function('F', BoolSort(), FSort)\n",
    "C = Function('C', FOutSort, BoolSort())\n",
    "G = Function('G', FOutSort, BoolSort())\n",
    "K = Function('K', BoolSort(), BoolSort())\n",
    "H = Function('H', FOutSort, BoolSort())\n",
    "D = Function('D', BoolSort(), BoolSort())"
   ]
  },
  {
   "cell_type": "code",
   "execution_count": 14,
   "metadata": {},
   "outputs": [],
   "source": [
    "L1 = F(I)\n",
    "L2 = L1\n",
    "L3 = K(G(L1))\n",
    "L4 = H(L1)\n",
    "L5_temp1 = And(C(L2),L3)\n",
    "L5_temp2 = And(D(L4), Not(C(L2)))\n",
    "L5 = (Or(L5_temp1, L5_temp2))"
   ]
  },
  {
   "cell_type": "code",
   "execution_count": 15,
   "metadata": {},
   "outputs": [],
   "source": [
    "l1 = F(I)\n",
    "l2 = C(l1)\n",
    "l3 = Or(And(l2, G(l1)), And(Not(l2), H(l1)))\n",
    "l5 = Or(And(l2,K(l3)), And(Not(l2), D(l3)))"
   ]
  },
  {
   "cell_type": "code",
   "execution_count": 18,
   "metadata": {},
   "outputs": [
    {
     "name": "stdout",
     "output_type": "stream",
     "text": [
      "Formula:  Not(Or(And(C(F(I)), K(G(F(I)))),\n",
      "       And(D(H(F(I))), Not(C(F(I))))) ==\n",
      "    Or(And(C(F(I)),\n",
      "           K(Or(And(C(F(I)), G(F(I))),\n",
      "                And(Not(C(F(I))), H(F(I)))))),\n",
      "       And(Not(C(F(I))),\n",
      "           D(Or(And(C(F(I)), G(F(I))),\n",
      "                And(Not(C(F(I))), H(F(I))))))))\n",
      "unsat\n"
     ]
    }
   ],
   "source": [
    "ans = Not(L5 == l5)\n",
    "solve(ans)"
   ]
  },
  {
   "cell_type": "code",
   "execution_count": null,
   "metadata": {},
   "outputs": [],
   "source": []
  }
 ],
 "metadata": {
  "kernelspec": {
   "display_name": "Python 3",
   "language": "python",
   "name": "python3"
  },
  "language_info": {
   "codemirror_mode": {
    "name": "ipython",
    "version": 3
   },
   "file_extension": ".py",
   "mimetype": "text/x-python",
   "name": "python",
   "nbconvert_exporter": "python",
   "pygments_lexer": "ipython3",
   "version": "3.6.8"
  }
 },
 "nbformat": 4,
 "nbformat_minor": 2
}
