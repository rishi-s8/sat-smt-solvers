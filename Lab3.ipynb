{
 "cells": [
  {
   "cell_type": "code",
   "execution_count": 57,
   "metadata": {},
   "outputs": [],
   "source": [
    "from z3 import *\n",
    "import argparse\n",
    "import itertools\n",
    "import time"
   ]
  },
  {
   "cell_type": "code",
   "execution_count": 58,
   "metadata": {},
   "outputs": [],
   "source": [
    "def solve(phi):\n",
    "    print(\"Formula: \", phi)\n",
    "    s = Solver()\n",
    "    s.add(phi)\n",
    "    r = s.check()\n",
    "    if r == sat:\n",
    "        m = s.model()\n",
    "        print(\"Model: \", m)\n",
    "    else:\n",
    "        print(\"unsat\")"
   ]
  },
  {
   "cell_type": "code",
   "execution_count": 59,
   "metadata": {},
   "outputs": [],
   "source": [
    "# number of variables\n",
    "n=10"
   ]
  },
  {
   "cell_type": "code",
   "execution_count": 60,
   "metadata": {},
   "outputs": [
    {
     "name": "stdout",
     "output_type": "stream",
     "text": [
      "[A, B, C, D, E, F, G, H, I, J]\n"
     ]
    }
   ],
   "source": [
    "vs = []\n",
    "\n",
    "c = 'A'\n",
    "for i in range(n):\n",
    "    temp = Bool(c)\n",
    "    c = chr(ord(c)+ 1)\n",
    "    vs.append(temp)\n",
    "print(vs)"
   ]
  },
  {
   "cell_type": "code",
   "execution_count": 79,
   "metadata": {},
   "outputs": [],
   "source": [
    "def sum_to_one( ls ):\n",
    "    # At least one\n",
    "    atLeastOne = Or(ls)\n",
    "    atMostOne = True\n",
    "    for i,j in itertools.combinations(ls,2):\n",
    "        print(i,j)\n",
    "        atMostOne = And(Or(Not(i), Not(j)), atMostOne)\n",
    "    exactlyOne = And(atLeastOne, atMostOne)\n",
    "    return exactlyOne"
   ]
  },
  {
   "cell_type": "code",
   "execution_count": 80,
   "metadata": {},
   "outputs": [
    {
     "name": "stdout",
     "output_type": "stream",
     "text": [
      "A B\n",
      "A C\n",
      "A D\n",
      "A E\n",
      "A F\n",
      "A G\n",
      "A H\n",
      "A I\n",
      "A J\n",
      "B C\n",
      "B D\n",
      "B E\n",
      "B F\n",
      "B G\n",
      "B H\n",
      "B I\n",
      "B J\n",
      "C D\n",
      "C E\n",
      "C F\n",
      "C G\n",
      "C H\n",
      "C I\n",
      "C J\n",
      "D E\n",
      "D F\n",
      "D G\n",
      "D H\n",
      "D I\n",
      "D J\n",
      "E F\n",
      "E G\n",
      "E H\n",
      "E I\n",
      "E J\n",
      "F G\n",
      "F H\n",
      "F I\n",
      "F J\n",
      "G H\n",
      "G I\n",
      "G J\n",
      "H I\n",
      "H J\n",
      "I J\n"
     ]
    }
   ],
   "source": [
    "F = sum_to_one( vs )"
   ]
  },
  {
   "cell_type": "code",
   "execution_count": 81,
   "metadata": {},
   "outputs": [
    {
     "name": "stdout",
     "output_type": "stream",
     "text": [
      "And(Or(A, B, C, D, E, F, G, H, I, J),\n",
      "    And(Or(Not(I), Not(J)),\n",
      "        And(Or(Not(H), Not(J)),\n",
      "            And(Or(Not(H), Not(I)),\n",
      "                And(Or(Not(G), Not(J)),\n",
      "                    And(Or(Not(G), Not(I)),\n",
      "                        And(Or(Not(G), Not(H)),\n",
      "                            And(Or(Not(F), Not(J)),\n",
      "                                And(Or(Not(F), Not(I)),\n",
      "                                    And(Or(Not(F), Not(H)),\n",
      "                                        And(Or(Not(F),\n",
      "                                        Not(G)),\n",
      "                                        And(Or(Not(E),\n",
      "                                        Not(J)),\n",
      "                                        And(Or(Not(E),\n",
      "                                        Not(I)),\n",
      "                                        And(Or(Not(E),\n",
      "                                        Not(H)),\n",
      "                                        And(Or(Not(E),\n",
      "                                        Not(G)),\n",
      "                                        And(Or(Not(E),\n",
      "                                        Not(F)),\n",
      "                                        And(Or(Not(D),\n",
      "                                        Not(J)),\n",
      "                                        And(Or(Not(D),\n",
      "                                        Not(I)),\n",
      "                                        And(Or(Not(...),\n",
      "                                        Not(...)),\n",
      "                                        And(Or(..., ...),\n",
      "                                        And(..., ...)))))))))))))))))))))\n"
     ]
    }
   ],
   "source": [
    "print(F)"
   ]
  },
  {
   "cell_type": "code",
   "execution_count": null,
   "metadata": {},
   "outputs": [],
   "source": []
  },
  {
   "cell_type": "code",
   "execution_count": 83,
   "metadata": {},
   "outputs": [
    {
     "name": "stdout",
     "output_type": "stream",
     "text": [
      "Formula:  And(And(Or(A, B, C, D, E, F, G, H, I, J),\n",
      "        And(Or(Not(I), Not(J)),\n",
      "            And(Or(Not(H), Not(J)),\n",
      "                And(Or(Not(H), Not(I)),\n",
      "                    And(Or(Not(G), Not(J)),\n",
      "                        And(Or(Not(G), Not(I)),\n",
      "                            And(Or(Not(G), Not(H)),\n",
      "                                And(Or(Not(F), Not(J)),\n",
      "                                    And(Or(Not(F), Not(I)),\n",
      "                                        And(Or(Not(F),\n",
      "                                        Not(H)),\n",
      "                                        And(Or(Not(F),\n",
      "                                        Not(G)),\n",
      "                                        And(Or(Not(E),\n",
      "                                        Not(J)),\n",
      "                                        And(Or(Not(E),\n",
      "                                        Not(I)),\n",
      "                                        And(Or(Not(E),\n",
      "                                        Not(H)),\n",
      "                                        And(Or(Not(E),\n",
      "                                        Not(G)),\n",
      "                                        And(Or(Not(E),\n",
      "                                        Not(F)),\n",
      "                                        And(Or(Not(D),\n",
      "                                        Not(J)),\n",
      "                                        And(Or(Not(...),\n",
      "                                        Not(...)),\n",
      "                                        And(Or(..., ...),\n",
      "                                        And(..., ...)))))))))))))))))))),\n",
      "    And(A == True, B == True))\n",
      "unsat\n"
     ]
    }
   ],
   "source": [
    "solve(And(F,And(vs[0]==True, vs[1]==True)))"
   ]
  },
  {
   "cell_type": "markdown",
   "metadata": {},
   "source": [
    "# Assignment 2"
   ]
  },
  {
   "cell_type": "code",
   "execution_count": 12,
   "metadata": {},
   "outputs": [],
   "source": [
    "vs = [  [Int(\"x_{}_{}\".format(i,j))  for j in range(3)] for i in range(3)]"
   ]
  },
  {
   "cell_type": "code",
   "execution_count": 13,
   "metadata": {},
   "outputs": [
    {
     "name": "stdout",
     "output_type": "stream",
     "text": [
      "[[x_0_0, x_0_1, x_0_2], [x_1_0, x_1_1, x_1_2], [x_2_0, x_2_1, x_2_2]]\n"
     ]
    }
   ],
   "source": [
    "print(vs)"
   ]
  },
  {
   "cell_type": "code",
   "execution_count": 50,
   "metadata": {},
   "outputs": [],
   "source": [
    "def constraints(vs):\n",
    "    #   -- all entries are between 1-9\n",
    "    Constraints = []\n",
    "    C1 = True\n",
    "    for i in vs:\n",
    "        for j in i:\n",
    "            C1 = And(C1, And(j>=1, j<=9))\n",
    "    Constraints.append(C1)\n",
    "    #   -- all entries are distinct\n",
    "\n",
    "    C2 = Distinct(list(itertools.chain(*vs)))\n",
    "    Constraints.append(C2)\n",
    "    #   There is a sum value t\n",
    "    t = Int('t')\n",
    "    #   -- sum of rows is t\n",
    "    C3 = True\n",
    "    for i in vs:\n",
    "        rowSum = 0\n",
    "        for j in i:\n",
    "            rowSum+=j\n",
    "        C3 = And(C3, rowSum==t)\n",
    "    Constraints.append(C3)\n",
    "    #   -- sum of columns is t\n",
    "    C4= True\n",
    "    for i in range(0, len(vs)):\n",
    "        colSum = 0\n",
    "        for j in range(0, len(vs)):\n",
    "            colSum+=vs[j][i]\n",
    "        C4 = And(C4, colSum==t)\n",
    "    Constraints.append(C4)\n",
    "    #   -- sum of diagonals is t\n",
    "    C5 = And(And(vs[0][0]+vs[2][2] == vs[2][0]+vs[0][2]), vs[0][0]+vs[2][2]+vs[1][1] == t)\n",
    "    Constraints.append(C5)\n",
    "    C = True\n",
    "    for i in Constraints:\n",
    "        C = And(C, i)\n",
    "    return C"
   ]
  },
  {
   "cell_type": "code",
   "execution_count": 51,
   "metadata": {},
   "outputs": [
    {
     "name": "stdout",
     "output_type": "stream",
     "text": [
      "And(And(And(And(And(True,\n",
      "                    And(And(And(And(And(And(And(And(And(True,\n",
      "                                        And(x_0_0 >= 1,\n",
      "                                        x_0_0 <= 9)),\n",
      "                                        And(x_0_1 >= 1,\n",
      "                                        x_0_1 <= 9)),\n",
      "                                        And(x_0_2 >= 1,\n",
      "                                        x_0_2 <= 9)),\n",
      "                                        And(x_1_0 >= 1,\n",
      "                                        x_1_0 <= 9)),\n",
      "                                        And(x_1_1 >= 1,\n",
      "                                        x_1_1 <= 9)),\n",
      "                                    And(x_1_2 >= 1,\n",
      "                                        x_1_2 <= 9)),\n",
      "                                And(x_2_0 >= 1, x_2_0 <= 9)),\n",
      "                            And(x_2_1 >= 1, x_2_1 <= 9)),\n",
      "                        And(x_2_2 >= 1, x_2_2 <= 9))),\n",
      "                Distinct(x_0_0,\n",
      "                         x_0_1,\n",
      "                         x_0_2,\n",
      "                         x_1_0,\n",
      "                         x_1_1,\n",
      "                         x_1_2,\n",
      "                         x_2_0,\n",
      "                         x_2_1,\n",
      "                         x_2_2)),\n",
      "            And(And(And(True,\n",
      "                        0 + x_0_0 + x_0_1 + x_0_2 == t),\n",
      "                    0 + x_1_0 + x_1_1 + x_1_2 == t),\n",
      "                0 + x_2_0 + x_2_1 + x_2_2 == t)),\n",
      "        And(And(And(True, 0 + x_0_0 + x_1_0 + x_2_0 == t),\n",
      "                0 + x_0_1 + x_1_1 + x_2_1 == t),\n",
      "            0 + x_0_2 + x_1_2 + x_2_2 == t)),\n",
      "    And(And(x_0_0 + x_2_2 == x_2_0 + x_0_2),\n",
      "        x_0_0 + x_2_2 + x_1_1 == t))\n"
     ]
    }
   ],
   "source": [
    "phi = constraints(vs)\n",
    "print(phi)"
   ]
  },
  {
   "cell_type": "code",
   "execution_count": 52,
   "metadata": {},
   "outputs": [
    {
     "name": "stdout",
     "output_type": "stream",
     "text": [
      "|-----|-----|-----|\n",
      "|  2  |  7  |  6  |\n",
      "|-----|-----|-----|\n",
      "|  9  |  5  |  1  |\n",
      "|-----|-----|-----|\n",
      "|  4  |  3  |  8  |\n",
      "|-----|-----|-----|\n",
      "15\n",
      "sat\n"
     ]
    }
   ],
   "source": [
    "s = Solver()\n",
    "\n",
    "s.add(phi)\n",
    "\n",
    "r = s.check()\n",
    "if r == sat:\n",
    "    m = s.model()\n",
    "    for i in range(3):\n",
    "        print( \"|-----|-----|-----|\" )\n",
    "        for j in range(3):\n",
    "            print(\"|  \", end =\"\")\n",
    "            val = m[vs[i][j]]\n",
    "            print( val, end =\"  \")\n",
    "        print(\"|\")\n",
    "    print( \"|-----|-----|-----|\" )\n",
    "    print(m[t])\n",
    "    print(\"sat\")\n",
    "else:\n",
    "    print(\"unsat\")\n"
   ]
  },
  {
   "cell_type": "code",
   "execution_count": null,
   "metadata": {},
   "outputs": [],
   "source": []
  },
  {
   "cell_type": "code",
   "execution_count": 54,
   "metadata": {},
   "outputs": [],
   "source": [
    "problem1 = [\n",
    " [ 9, 0, 0,   0, 1, 0,   5, 0, 0],\n",
    " [ 7, 0, 0,   8, 0, 3,   0, 0, 2],\n",
    " [ 0, 0, 0,   0, 0, 0,   3, 0, 8],\n",
    "\n",
    " [ 0, 7, 8,   0, 2, 5,   6, 0, 0],\n",
    " [ 0, 0, 0,   0, 0, 0,   0, 0, 0],\n",
    " [ 0, 0, 2,   3, 4, 0,   1, 8, 0],\n",
    "\n",
    " [ 8, 0, 9,   0, 0, 0,   0, 0, 0],\n",
    " [ 5, 0, 0,   4, 0, 1,   0, 0, 9],\n",
    " [ 0, 0, 1,   0, 5, 0,   0, 0, 4]\n",
    "]\n",
    "\n",
    "problem2 = [\n",
    "[ 0, 8, 0,   0, 0, 3,   0, 0, 0],\n",
    "[ 5, 0, 3,   0, 4, 0,   2, 0, 0],\n",
    "[ 7, 0, 4,   0, 8, 0,   0, 0, 3],\n",
    "\n",
    "[ 0, 7, 0,   0, 0, 0,   5, 0, 0],\n",
    "[ 0, 3, 0,   8, 0, 5,   0, 6, 0],\n",
    "[ 0, 0, 1,   0, 0, 0,   0, 9, 0],\n",
    "\n",
    "[ 9, 0, 0,   0, 3, 0,   7, 0, 6],\n",
    "[ 0, 0, 7,   0, 2, 0,   3, 0, 1],\n",
    "[ 0, 0, 0,   6, 0, 0,   0, 2, 0]\n",
    "]\n",
    "\n",
    "problem = problem1"
   ]
  },
  {
   "cell_type": "code",
   "execution_count": 55,
   "metadata": {},
   "outputs": [
    {
     "name": "stdout",
     "output_type": "stream",
     "text": [
      "[[[x_0_0_0, x_0_1_0, x_0_2_0], [x_1_0_0, x_1_1_0, x_1_2_0], [x_2_0_0, x_2_1_0, x_2_2_0]], [[x_0_0_1, x_0_1_1, x_0_2_1], [x_1_0_1, x_1_1_1, x_1_2_1], [x_2_0_1, x_2_1_1, x_2_2_1]], [[x_0_0_2, x_0_1_2, x_0_2_2], [x_1_0_2, x_1_1_2, x_1_2_2], [x_2_0_2, x_2_1_2, x_2_2_2]]]\n"
     ]
    }
   ],
   "source": [
    "vs = [[  [Int(\"x_{}_{}_{}\".format(i,j,k))  for j in range(3)] for i in range(3)] for k in range(3)]\n",
    "print(vs)"
   ]
  },
  {
   "cell_type": "code",
   "execution_count": null,
   "metadata": {},
   "outputs": [],
   "source": []
  }
 ],
 "metadata": {
  "kernelspec": {
   "display_name": "Python 3",
   "language": "python",
   "name": "python3"
  },
  "language_info": {
   "codemirror_mode": {
    "name": "ipython",
    "version": 3
   },
   "file_extension": ".py",
   "mimetype": "text/x-python",
   "name": "python",
   "nbconvert_exporter": "python",
   "pygments_lexer": "ipython3",
   "version": "3.6.8"
  }
 },
 "nbformat": 4,
 "nbformat_minor": 2
}
