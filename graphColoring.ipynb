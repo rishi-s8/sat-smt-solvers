{
 "cells": [
  {
   "cell_type": "code",
   "execution_count": 1,
   "metadata": {},
   "outputs": [],
   "source": [
    "from z3 import *\n",
    "import sys\n",
    "from random import randint\n",
    "from collections import defaultdict\n",
    "from time import time\n",
    "%matplotlib inline\n",
    "import matplotlib.pyplot as plt"
   ]
  },
  {
   "cell_type": "code",
   "execution_count": 2,
   "metadata": {},
   "outputs": [],
   "source": [
    "def readGraph():\n",
    "    g = defaultdict(list)\n",
    "    file = open(\"edges.txt\", \"r\")\n",
    "    edges = file.readlines()\n",
    "    edges = set(edges)\n",
    "    n=0\n",
    "    new_edges = []\n",
    "    for t in edges:\n",
    "        x,y = map(int,t.split(','))\n",
    "        new_edges.append((x,y))\n",
    "        n = max(n,max(x,y))\n",
    "        g[x].append(y)\n",
    "    file.close()\n",
    "    return g, n+1, new_edges"
   ]
  },
  {
   "cell_type": "code",
   "execution_count": 3,
   "metadata": {},
   "outputs": [],
   "source": [
    "visited = []\n",
    "def dfs(graph, v):\n",
    "    visited[v]=True\n",
    "    \n",
    "    for i in graph[v]:\n",
    "        if visited[i]==False:\n",
    "            dfs(graph, i)"
   ]
  },
  {
   "cell_type": "code",
   "execution_count": 4,
   "metadata": {},
   "outputs": [],
   "source": [
    "g,n,edges = readGraph()\n",
    "m = len(edges)"
   ]
  },
  {
   "cell_type": "code",
   "execution_count": 5,
   "metadata": {},
   "outputs": [],
   "source": [
    "def atLeastOneColor(vs):\n",
    "    C = True\n",
    "    for i in vs:\n",
    "        C = And(C,Or(i))\n",
    "    return C"
   ]
  },
  {
   "cell_type": "code",
   "execution_count": 6,
   "metadata": {},
   "outputs": [],
   "source": [
    "def differentColors(vs, cur_edges):\n",
    "    C = True\n",
    "    for a,b in cur_edges:\n",
    "        for l in range(d):\n",
    "            C=And(C,Or(Not(vs[a][l]), Not(vs[b][l])))\n",
    "    return C"
   ]
  },
  {
   "cell_type": "code",
   "execution_count": 7,
   "metadata": {},
   "outputs": [],
   "source": [
    "def solve(phi):\n",
    "    s = Solver()\n",
    "    s.add(phi)\n",
    "    r = s.check()\n",
    "    if r == sat:\n",
    "        m = s.model()\n",
    "        #print(m)\n",
    "#         for i in range(n):\n",
    "#             got_it = False\n",
    "#             for j in range(d):\n",
    "#                 if is_true(m[vs[i][j]]):\n",
    "#                     print(\"Node: {}, Color: {}\".format(i,j))\n",
    "#                     got_it = True\n",
    "#             if got_it == False:\n",
    "#                 print(\"Node: {}, No Color\".format(i))\n",
    "    else:\n",
    "        print(\"unsat\")"
   ]
  },
  {
   "cell_type": "code",
   "execution_count": 17,
   "metadata": {},
   "outputs": [
    {
     "name": "stdout",
     "output_type": "stream",
     "text": [
      "d:  3\n",
      "k: 1, time: 0.2585599422454834\n",
      "k: 101, time: 0.31806206703186035\n",
      "k: 201, time: 0.47243809700012207\n",
      "k: 301, time: 0.5116968154907227\n",
      "k: 401, time: 0.6180973052978516\n",
      "k: 501, time: 0.7309818267822266\n",
      "k: 601, time: 0.8955898284912109\n",
      "k: 701, time: 0.9951379299163818\n",
      "k: 801, time: 0.9974370002746582\n",
      "k: 901, time: 1.1063120365142822\n",
      "k: 1001, time: 1.2337279319763184\n",
      "k: 1101, time: 1.3511416912078857\n",
      "unsat\n",
      "k: 1201, time: 65.56221723556519\n",
      "unsat\n",
      "k: 1301, time: 4.134710788726807\n",
      "unsat\n",
      "k: 1401, time: 1.8281137943267822\n",
      "unsat\n",
      "k: 1501, time: 1.716414213180542\n",
      "unsat\n",
      "k: 1601, time: 1.7582528591156006\n",
      "unsat\n",
      "k: 1701, time: 2.0245771408081055\n",
      "unsat\n",
      "k: 1801, time: 2.1685009002685547\n",
      "unsat\n",
      "k: 1901, time: 2.0913290977478027\n",
      "unsat\n",
      "k: 2001, time: 2.1697559356689453\n",
      "unsat\n",
      "k: 2101, time: 2.172960042953491\n",
      "unsat\n",
      "k: 2201, time: 2.3106160163879395\n",
      "unsat\n",
      "k: 2301, time: 2.383898973464966\n",
      "unsat\n",
      "k: 2401, time: 2.494603157043457\n",
      "unsat\n",
      "k: 2501, time: 2.5582690238952637\n",
      "unsat\n",
      "k: 2601, time: 2.8019230365753174\n",
      "unsat\n",
      "k: 2701, time: 2.746273994445801\n",
      "unsat\n",
      "k: 2801, time: 2.8654792308807373\n",
      "unsat\n",
      "k: 2901, time: 2.990432024002075\n",
      "unsat\n",
      "k: 3001, time: 3.0761940479278564\n",
      "unsat\n",
      "k: 3101, time: 3.129096031188965\n",
      "unsat\n",
      "k: 3201, time: 3.219172954559326\n",
      "unsat\n",
      "k: 3301, time: 3.3777239322662354\n",
      "unsat\n",
      "k: 3401, time: 3.3896992206573486\n",
      "unsat\n",
      "k: 3501, time: 3.4968650341033936\n",
      "unsat\n",
      "k: 3601, time: 3.5693490505218506\n",
      "unsat\n",
      "k: 3701, time: 3.6818859577178955\n",
      "unsat\n",
      "k: 3801, time: 3.755488872528076\n",
      "unsat\n",
      "k: 3901, time: 4.027482748031616\n"
     ]
    }
   ],
   "source": [
    "d = 3\n",
    "timeTaken = []\n",
    "timeSteps = []\n",
    "print(\"d: \", d)\n",
    "for k in range(1, 4000, 100):\n",
    "    timeSteps.append(k)\n",
    "    tic = time()\n",
    "    vs = [  [Bool(\"p_{}_{}\".format(i,j))  for j in range(d)] for i in range(n)]\n",
    "    cur_edges = edges[0:k]\n",
    "    Constraints = []\n",
    "    Constraints.append(atLeastOneColor(vs))\n",
    "    Constraints.append(differentColors(vs, cur_edges))\n",
    "    solve(And(Constraints))\n",
    "    timeTaken.append(time()-tic)\n",
    "    print(\"k: {}, time: {}\".format(k,timeTaken[-1]))"
   ]
  },
  {
   "cell_type": "code",
   "execution_count": 18,
   "metadata": {},
   "outputs": [
    {
     "data": {
      "text/plain": [
       "[<matplotlib.lines.Line2D at 0x11bc9c438>]"
      ]
     },
     "execution_count": 18,
     "metadata": {},
     "output_type": "execute_result"
    },
    {
     "data": {
      "image/png": "[encoded data removed]",
      "text/plain": [
       "<Figure size 432x288 with 1 Axes>"
      ]
     },
     "metadata": {
      "needs_background": "light"
     },
     "output_type": "display_data"
    }
   ],
   "source": [
    "plt.plot(timeSteps,timeTaken)"
   ]
  },
  {
   "cell_type": "code",
   "execution_count": null,
   "metadata": {},
   "outputs": [],
   "source": []
  }
 ],
 "metadata": {
  "kernelspec": {
   "display_name": "Python 3",
   "language": "python",
   "name": "python3"
  },
  "language_info": {
   "codemirror_mode": {
    "name": "ipython",
    "version": 3
   },
   "file_extension": ".py",
   "mimetype": "text/x-python",
   "name": "python",
   "nbconvert_exporter": "python",
   "pygments_lexer": "ipython3",
   "version": "3.6.8"
  }
 },
 "nbformat": 4,
 "nbformat_minor": 2
}
