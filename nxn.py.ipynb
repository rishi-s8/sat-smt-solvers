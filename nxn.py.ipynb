{
 "cells": [
  {
   "cell_type": "code",
   "execution_count": 16,
   "metadata": {},
   "outputs": [],
   "source": [
    "from z3 import *\n",
    "%matplotlib inline\n",
    "import itertools"
   ]
  },
  {
   "cell_type": "code",
   "execution_count": 18,
   "metadata": {},
   "outputs": [],
   "source": [
    "def constraints(vs):\n",
    "    n = len(vs)*len(vs)\n",
    "    Constraints = []\n",
    "    C1 = True\n",
    "    for i in vs:\n",
    "        for j in i:\n",
    "            C1 = And(C1, And(j>=1, j<=n))\n",
    "    Constraints.append(C1)\n",
    "    \n",
    "    #   -- all entries are distinct\n",
    "    C2 = Distinct(list(itertools.chain(*vs)))\n",
    "    Constraints.append(C2)\n",
    "    #   There is a sum value t\n",
    "    t = Int('t')\n",
    "    #   -- sum of rows is t\n",
    "    C3 = True\n",
    "    for i in vs:\n",
    "        rowSum = 0\n",
    "        for j in i:\n",
    "            rowSum+=j\n",
    "        C3 = And(C3, rowSum==t)\n",
    "    Constraints.append(C3)\n",
    "    #   -- sum of columns is t\n",
    "    C4= True\n",
    "    for i in range(0, len(vs)):\n",
    "        colSum = 0\n",
    "        for j in range(0, len(vs)):\n",
    "            colSum+=vs[j][i]\n",
    "        C4 = And(C4, colSum==t)\n",
    "    Constraints.append(C4)\n",
    "    #   -- sum of diagonals is t\n",
    "    leftDiagSum = 0\n",
    "    for i in range(0,len(vs)):\n",
    "        leftDiagSum+=vs[i][i]\n",
    "    rightDiagSum = 0\n",
    "    for i in range(0,len(vs)):\n",
    "        rightDiagSum+=vs[i][len(vs)-i-1]\n",
    "    C5 = And([leftDiagSum==rightDiagSum, leftDiagSum==t])\n",
    "    Constraints.append(C5)\n",
    "    return And(Constraints)"
   ]
  },
  {
   "cell_type": "code",
   "execution_count": null,
   "metadata": {},
   "outputs": [
    {
     "name": "stdout",
     "output_type": "stream",
     "text": [
      "n:  1\n",
      "|-----|\n",
      "|  1  |\n",
      "|-----|\n",
      "sat\n",
      "n:  2\n",
      "unsat\n",
      "n:  3\n",
      "|-----|-----|-----|\n",
      "|  4  |  3  |  8  |\n",
      "|-----|-----|-----|\n",
      "|  9  |  5  |  1  |\n",
      "|-----|-----|-----|\n",
      "|  2  |  7  |  6  |\n",
      "|-----|-----|-----|\n",
      "sat\n",
      "n:  4\n",
      "|-----|-----|-----|-----|\n",
      "|  9  |  16  |  2  |  7  |\n",
      "|-----|-----|-----|-----|\n",
      "|  3  |  6  |  12  |  13  |\n",
      "|-----|-----|-----|-----|\n",
      "|  8  |  1  |  15  |  10  |\n",
      "|-----|-----|-----|-----|\n",
      "|  14  |  11  |  5  |  4  |\n",
      "|-----|-----|-----|-----|\n",
      "sat\n",
      "n:  5\n",
      "|-----|-----|-----|-----|-----|\n",
      "|  11  |  17  |  14  |  1  |  22  |\n",
      "|-----|-----|-----|-----|-----|\n",
      "|  2  |  21  |  12  |  6  |  24  |\n",
      "|-----|-----|-----|-----|-----|\n",
      "|  19  |  4  |  16  |  23  |  3  |\n",
      "|-----|-----|-----|-----|-----|\n",
      "|  20  |  8  |  18  |  10  |  9  |\n",
      "|-----|-----|-----|-----|-----|\n",
      "|  13  |  15  |  5  |  25  |  7  |\n",
      "|-----|-----|-----|-----|-----|\n",
      "sat\n",
      "n:  6\n"
     ]
    }
   ],
   "source": [
    "n = 10\n",
    "for sz in range(1,n):\n",
    "    print(\"n: \",sz)\n",
    "    \n",
    "    vs = [  [Int(\"x_{}_{}\".format(i,j))  for j in range(sz)] for i in range(sz)]\n",
    "    \n",
    "    phi = constraints(vs)\n",
    "    s = Solver()\n",
    "\n",
    "    s.add(phi)\n",
    "\n",
    "    r = s.check()\n",
    "    if r == sat:\n",
    "        m = s.model()\n",
    "        for i in range(sz):\n",
    "            print( \"|-----\"*sz +  \"|\" )\n",
    "            for j in range(sz):\n",
    "                print(\"|  \", end =\"\")\n",
    "                val = m[vs[i][j]]\n",
    "                print( val, end =\"  \")\n",
    "            print(\"|\")\n",
    "        print( \"|-----\"*sz +  \"|\" )\n",
    "        print(\"sat\")\n",
    "    else:\n",
    "        print(\"unsat\")\n"
   ]
  },
  {
   "cell_type": "code",
   "execution_count": null,
   "metadata": {},
   "outputs": [],
   "source": []
  },
  {
   "cell_type": "code",
   "execution_count": null,
   "metadata": {},
   "outputs": [],
   "source": []
  }
 ],
 "metadata": {
  "kernelspec": {
   "display_name": "Python 3",
   "language": "python",
   "name": "python3"
  },
  "language_info": {
   "codemirror_mode": {
    "name": "ipython",
    "version": 3
   },
   "file_extension": ".py",
   "mimetype": "text/x-python",
   "name": "python",
   "nbconvert_exporter": "python",
   "pygments_lexer": "ipython3",
   "version": "3.6.8"
  }
 },
 "nbformat": 4,
 "nbformat_minor": 2
}
